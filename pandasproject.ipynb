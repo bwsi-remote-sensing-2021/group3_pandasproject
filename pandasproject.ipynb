{
 "cells": [
  {
   "cell_type": "code",
   "execution_count": 1,
   "id": "fc7d8506-2ac7-4250-98a2-4bae43378d1d",
   "metadata": {},
   "outputs": [],
   "source": [
    "import pandas as pd\n",
    "import numpy as np\n",
    "# by default, pandas only shows the beginning and end of a large dataframe\n",
    "# You can choose how many rows and columns to show.\n",
    "# If you want to see all of the rows, set the respective value to None\n",
    "pd.options.display.max_rows = 100 \n",
    "pd.options.display.max_columns = 50"
   ]
  },
  {
   "cell_type": "code",
   "execution_count": 5,
   "id": "126be9e9-8751-448c-82fb-067c280bec40",
   "metadata": {},
   "outputs": [],
   "source": [
    "# URL for data hosted online\n",
    "cases_url = 'https://raw.githubusercontent.com/nytimes/covid-19-data/master/us-states.csv' \n",
    "cases_df = pd.read_csv(cases_url, index_col='date') # create a dataframe from a csv, set the column titled \"Index\" as the row labels"
   ]
  },
  {
   "cell_type": "code",
   "execution_count": 8,
   "id": "7d5ea86c-a1a2-407b-aca4-5a90392fe341",
   "metadata": {},
   "outputs": [],
   "source": [
    "# URL for data hosted online\n",
    "areas_url = 'https://raw.githubusercontent.com/bwsi-remote-sensing-2021/group3_pandasproject/main/stateareas2010.csv' \n",
    "areas_df = pd.read_csv(areas_url, index_col='state') # create a dataframe from a csv, set the column titled \"Index\" as the row labels"
   ]
  },
  {
   "cell_type": "code",
   "execution_count": null,
   "id": "55d5dff3-c126-49c0-a692-c58327a54ac3",
   "metadata": {},
   "outputs": [],
   "source": []
  }
 ],
 "metadata": {
  "kernelspec": {
   "display_name": "Python 3",
   "language": "python",
   "name": "python3"
  },
  "language_info": {
   "codemirror_mode": {
    "name": "ipython",
    "version": 3
   },
   "file_extension": ".py",
   "mimetype": "text/x-python",
   "name": "python",
   "nbconvert_exporter": "python",
   "pygments_lexer": "ipython3",
   "version": "3.8.10"
  }
 },
 "nbformat": 4,
 "nbformat_minor": 5
}
